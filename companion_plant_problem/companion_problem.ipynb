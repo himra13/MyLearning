{
 "cells": [
  {
   "cell_type": "markdown",
   "metadata": {},
   "source": [
    "# Arm's Companion & Rival plant problem\n",
    "- https://igraph.org/python/doc/tutorial/tutorial.html\n",
    "- https://networkx.github.io/documentation/stable/tutorial.html#adding-attributes-to-graphs-nodes-and-edges\n",
    "- 800 pages pdf: https://networkx.github.io/documentation/latest/_downloads/networkx_reference.pdf\n",
    "- **sentiment analysis**"
   ]
  },
  {
   "cell_type": "code",
   "execution_count": null,
   "metadata": {},
   "outputs": [],
   "source": [
    "!pip install python-igraph"
   ]
  },
  {
   "cell_type": "code",
   "execution_count": 110,
   "metadata": {},
   "outputs": [],
   "source": [
    "import igraph as g\n",
    "import pandas as pd\n",
    "import networkx as nx\n",
    "import matplotlib.pyplot as plt\n",
    "import re\n",
    "import itertools as i\n",
    "import numpy as np\n",
    "import os"
   ]
  },
  {
   "cell_type": "code",
   "execution_count": 113,
   "metadata": {},
   "outputs": [
    {
     "data": {
      "text/plain": [
       "'C:\\\\Users\\\\apansukij\\\\Desktop\\\\play'"
      ]
     },
     "execution_count": 113,
     "metadata": {},
     "output_type": "execute_result"
    }
   ],
   "source": [
    "pwd"
   ]
  },
  {
   "cell_type": "code",
   "execution_count": 112,
   "metadata": {},
   "outputs": [],
   "source": [
    "os.chdir('C:\\\\Users\\\\apansukij\\\\Desktop\\\\play')"
   ]
  },
  {
   "cell_type": "code",
   "execution_count": 4,
   "metadata": {},
   "outputs": [
    {
     "name": "stdout",
     "output_type": "stream",
     "text": [
      "igraph version = 0.9.6\n",
      "networkx version = 2.4\n"
     ]
    }
   ],
   "source": [
    "print(\"igraph version = \"+g.__version__)\n",
    "print(\"networkx version = \"+nx.__version__)"
   ]
  },
  {
   "cell_type": "markdown",
   "metadata": {},
   "source": [
    "## Import and QA the data"
   ]
  },
  {
   "cell_type": "markdown",
   "metadata": {},
   "source": [
    "### Import"
   ]
  },
  {
   "cell_type": "code",
   "execution_count": 5,
   "metadata": {},
   "outputs": [
    {
     "name": "stdout",
     "output_type": "stream",
     "text": [
      "<class 'pandas.core.frame.DataFrame'>\n",
      "Index: 68 entries, Apple to Zucchini\n",
      "Data columns (total 68 columns):\n",
      " #   Column            Non-Null Count  Dtype  \n",
      "---  ------            --------------  -----  \n",
      " 0   Apple             12 non-null     float64\n",
      " 1   Apricot           14 non-null     float64\n",
      " 2   Asparagus         5 non-null      float64\n",
      " 3   Basil             9 non-null      float64\n",
      " 4   Beans             24 non-null     float64\n",
      " 5   Broad Beans       13 non-null     float64\n",
      " 6   Bush Beans        15 non-null     float64\n",
      " 7   Climbing Beans    13 non-null     float64\n",
      " 8   Beets             13 non-null     float64\n",
      " 9   Borage            9 non-null      float64\n",
      " 10  Broccoli          15 non-null     float64\n",
      " 11  Brussell Sprouts  14 non-null     float64\n",
      " 12  Cabbages          27 non-null     float64\n",
      " 13  Chamomile         3 non-null      float64\n",
      " 14  Carrots           19 non-null     float64\n",
      " 15  Cauliflower       16 non-null     float64\n",
      " 16  Celery            12 non-null     float64\n",
      " 17  Cherry            13 non-null     float64\n",
      " 18  Chervil           11 non-null     float64\n",
      " 19  Chives            15 non-null     float64\n",
      " 20  Coriander         10 non-null     float64\n",
      " 21  Corn              12 non-null     float64\n",
      " 22  Cucumber          20 non-null     float64\n",
      " 23  Dill              12 non-null     float64\n",
      " 24  Eggplant          2 non-null      float64\n",
      " 25  Fennel            7 non-null      float64\n",
      " 26  Marigold          19 non-null     float64\n",
      " 27  Fruit Trees       11 non-null     float64\n",
      " 28  Garlic            17 non-null     float64\n",
      " 29  Gooseberry        2 non-null      float64\n",
      " 30  Grape Vine        6 non-null      float64\n",
      " 31  Grass             7 non-null      float64\n",
      " 32  Horseradish       6 non-null      float64\n",
      " 33  Lavender          5 non-null      float64\n",
      " 34  Leeks             5 non-null      float64\n",
      " 35  Lemon Balm        7 non-null      float64\n",
      " 36  Lettuce           17 non-null     float64\n",
      " 37  Marjoram          31 non-null     float64\n",
      " 38  Mints             4 non-null      float64\n",
      " 39  Mulberry          12 non-null     float64\n",
      " 40  Mustard           6 non-null      float64\n",
      " 41  Nasturtiums       14 non-null     float64\n",
      " 42  Onions            18 non-null     float64\n",
      " 43  Parsley           10 non-null     float64\n",
      " 44  Parsnip           12 non-null     float64\n",
      " 45  Peas              16 non-null     float64\n",
      " 46  Pennyroyal        1 non-null      float64\n",
      " 47  Potato            26 non-null     float64\n",
      " 48  Pumpkin           3 non-null      float64\n",
      " 49  Radish            8 non-null      float64\n",
      " 50  Raspberry         4 non-null      float64\n",
      " 51  Rosemary          9 non-null      float64\n",
      " 52  Roses             11 non-null     float64\n",
      " 53  Rue               9 non-null      float64\n",
      " 54  Sage              11 non-null     float64\n",
      " 55  Savory            2 non-null      float64\n",
      " 56  Shallots          3 non-null      float64\n",
      " 57  Silverbeet        8 non-null      float64\n",
      " 58  Spinach           10 non-null     float64\n",
      " 59  Squash            9 non-null      float64\n",
      " 60  Strawberries      13 non-null     float64\n",
      " 61  Stinging Nettle   4 non-null      float64\n",
      " 62  Sunﬂower          7 non-null      float64\n",
      " 63  Tansy             10 non-null     float64\n",
      " 64  Thyme             2 non-null      float64\n",
      " 65  Tomato            26 non-null     float64\n",
      " 66  Yarrow            8 non-null      float64\n",
      " 67  Zucchini          3 non-null      float64\n",
      "dtypes: float64(68)\n",
      "memory usage: 36.7+ KB\n"
     ]
    }
   ],
   "source": [
    "df=pd.read_csv('raw_data.csv',index_col=0)\n",
    "df.info()"
   ]
  },
  {
   "cell_type": "code",
   "execution_count": 6,
   "metadata": {},
   "outputs": [
    {
     "data": {
      "text/html": [
       "<div>\n",
       "<style scoped>\n",
       "    .dataframe tbody tr th:only-of-type {\n",
       "        vertical-align: middle;\n",
       "    }\n",
       "\n",
       "    .dataframe tbody tr th {\n",
       "        vertical-align: top;\n",
       "    }\n",
       "\n",
       "    .dataframe thead th {\n",
       "        text-align: right;\n",
       "    }\n",
       "</style>\n",
       "<table border=\"1\" class=\"dataframe\">\n",
       "  <thead>\n",
       "    <tr style=\"text-align: right;\">\n",
       "      <th></th>\n",
       "      <th>Apple</th>\n",
       "      <th>Apricot</th>\n",
       "      <th>Asparagus</th>\n",
       "      <th>Basil</th>\n",
       "      <th>Beans</th>\n",
       "      <th>Broad Beans</th>\n",
       "      <th>Bush Beans</th>\n",
       "      <th>Climbing Beans</th>\n",
       "      <th>Beets</th>\n",
       "      <th>Borage</th>\n",
       "      <th>...</th>\n",
       "      <th>Spinach</th>\n",
       "      <th>Squash</th>\n",
       "      <th>Strawberries</th>\n",
       "      <th>Stinging Nettle</th>\n",
       "      <th>Sunﬂower</th>\n",
       "      <th>Tansy</th>\n",
       "      <th>Thyme</th>\n",
       "      <th>Tomato</th>\n",
       "      <th>Yarrow</th>\n",
       "      <th>Zucchini</th>\n",
       "    </tr>\n",
       "  </thead>\n",
       "  <tbody>\n",
       "    <tr>\n",
       "      <th>Apple</th>\n",
       "      <td>NaN</td>\n",
       "      <td>NaN</td>\n",
       "      <td>NaN</td>\n",
       "      <td>NaN</td>\n",
       "      <td>NaN</td>\n",
       "      <td>NaN</td>\n",
       "      <td>NaN</td>\n",
       "      <td>NaN</td>\n",
       "      <td>NaN</td>\n",
       "      <td>NaN</td>\n",
       "      <td>...</td>\n",
       "      <td>1.0</td>\n",
       "      <td>NaN</td>\n",
       "      <td>NaN</td>\n",
       "      <td>NaN</td>\n",
       "      <td>NaN</td>\n",
       "      <td>1.0</td>\n",
       "      <td>NaN</td>\n",
       "      <td>NaN</td>\n",
       "      <td>1.0</td>\n",
       "      <td>NaN</td>\n",
       "    </tr>\n",
       "    <tr>\n",
       "      <th>Apricot</th>\n",
       "      <td>NaN</td>\n",
       "      <td>NaN</td>\n",
       "      <td>NaN</td>\n",
       "      <td>1.0</td>\n",
       "      <td>NaN</td>\n",
       "      <td>NaN</td>\n",
       "      <td>NaN</td>\n",
       "      <td>NaN</td>\n",
       "      <td>NaN</td>\n",
       "      <td>NaN</td>\n",
       "      <td>...</td>\n",
       "      <td>1.0</td>\n",
       "      <td>NaN</td>\n",
       "      <td>NaN</td>\n",
       "      <td>1.0</td>\n",
       "      <td>1.0</td>\n",
       "      <td>1.0</td>\n",
       "      <td>NaN</td>\n",
       "      <td>0.0</td>\n",
       "      <td>1.0</td>\n",
       "      <td>NaN</td>\n",
       "    </tr>\n",
       "    <tr>\n",
       "      <th>Asparagus</th>\n",
       "      <td>NaN</td>\n",
       "      <td>NaN</td>\n",
       "      <td>NaN</td>\n",
       "      <td>1.0</td>\n",
       "      <td>NaN</td>\n",
       "      <td>NaN</td>\n",
       "      <td>NaN</td>\n",
       "      <td>NaN</td>\n",
       "      <td>NaN</td>\n",
       "      <td>NaN</td>\n",
       "      <td>...</td>\n",
       "      <td>NaN</td>\n",
       "      <td>NaN</td>\n",
       "      <td>NaN</td>\n",
       "      <td>NaN</td>\n",
       "      <td>NaN</td>\n",
       "      <td>NaN</td>\n",
       "      <td>NaN</td>\n",
       "      <td>1.0</td>\n",
       "      <td>NaN</td>\n",
       "      <td>NaN</td>\n",
       "    </tr>\n",
       "    <tr>\n",
       "      <th>Basil</th>\n",
       "      <td>NaN</td>\n",
       "      <td>1.0</td>\n",
       "      <td>1.0</td>\n",
       "      <td>NaN</td>\n",
       "      <td>NaN</td>\n",
       "      <td>NaN</td>\n",
       "      <td>NaN</td>\n",
       "      <td>NaN</td>\n",
       "      <td>NaN</td>\n",
       "      <td>NaN</td>\n",
       "      <td>...</td>\n",
       "      <td>NaN</td>\n",
       "      <td>NaN</td>\n",
       "      <td>NaN</td>\n",
       "      <td>NaN</td>\n",
       "      <td>NaN</td>\n",
       "      <td>NaN</td>\n",
       "      <td>NaN</td>\n",
       "      <td>1.0</td>\n",
       "      <td>NaN</td>\n",
       "      <td>NaN</td>\n",
       "    </tr>\n",
       "    <tr>\n",
       "      <th>Beans</th>\n",
       "      <td>NaN</td>\n",
       "      <td>NaN</td>\n",
       "      <td>NaN</td>\n",
       "      <td>NaN</td>\n",
       "      <td>NaN</td>\n",
       "      <td>NaN</td>\n",
       "      <td>NaN</td>\n",
       "      <td>NaN</td>\n",
       "      <td>NaN</td>\n",
       "      <td>NaN</td>\n",
       "      <td>...</td>\n",
       "      <td>NaN</td>\n",
       "      <td>NaN</td>\n",
       "      <td>NaN</td>\n",
       "      <td>NaN</td>\n",
       "      <td>NaN</td>\n",
       "      <td>NaN</td>\n",
       "      <td>NaN</td>\n",
       "      <td>NaN</td>\n",
       "      <td>NaN</td>\n",
       "      <td>NaN</td>\n",
       "    </tr>\n",
       "  </tbody>\n",
       "</table>\n",
       "<p>5 rows × 68 columns</p>\n",
       "</div>"
      ],
      "text/plain": [
       "           Apple  Apricot  Asparagus  Basil  Beans  Broad Beans  Bush Beans  \\\n",
       "Apple        NaN      NaN        NaN    NaN    NaN          NaN         NaN   \n",
       "Apricot      NaN      NaN        NaN    1.0    NaN          NaN         NaN   \n",
       "Asparagus    NaN      NaN        NaN    1.0    NaN          NaN         NaN   \n",
       "Basil        NaN      1.0        1.0    NaN    NaN          NaN         NaN   \n",
       "Beans        NaN      NaN        NaN    NaN    NaN          NaN         NaN   \n",
       "\n",
       "           Climbing Beans  Beets  Borage  ...  Spinach  Squash  Strawberries  \\\n",
       "Apple                 NaN    NaN     NaN  ...      1.0     NaN           NaN   \n",
       "Apricot               NaN    NaN     NaN  ...      1.0     NaN           NaN   \n",
       "Asparagus             NaN    NaN     NaN  ...      NaN     NaN           NaN   \n",
       "Basil                 NaN    NaN     NaN  ...      NaN     NaN           NaN   \n",
       "Beans                 NaN    NaN     NaN  ...      NaN     NaN           NaN   \n",
       "\n",
       "           Stinging Nettle  Sunﬂower  Tansy  Thyme  Tomato  Yarrow  Zucchini  \n",
       "Apple                  NaN       NaN    1.0    NaN     NaN     1.0       NaN  \n",
       "Apricot                1.0       1.0    1.0    NaN     0.0     1.0       NaN  \n",
       "Asparagus              NaN       NaN    NaN    NaN     1.0     NaN       NaN  \n",
       "Basil                  NaN       NaN    NaN    NaN     1.0     NaN       NaN  \n",
       "Beans                  NaN       NaN    NaN    NaN     NaN     NaN       NaN  \n",
       "\n",
       "[5 rows x 68 columns]"
      ]
     },
     "execution_count": 6,
     "metadata": {},
     "output_type": "execute_result"
    }
   ],
   "source": [
    "df.head()"
   ]
  },
  {
   "cell_type": "code",
   "execution_count": 7,
   "metadata": {},
   "outputs": [
    {
     "data": {
      "text/plain": [
       "range(0, 69)"
      ]
     },
     "execution_count": 7,
     "metadata": {},
     "output_type": "execute_result"
    }
   ],
   "source": [
    "range(len(df)+1)"
   ]
  },
  {
   "cell_type": "code",
   "execution_count": 8,
   "metadata": {},
   "outputs": [
    {
     "data": {
      "text/plain": [
       "nan"
      ]
     },
     "execution_count": 8,
     "metadata": {},
     "output_type": "execute_result"
    }
   ],
   "source": [
    "df.iloc[0,0]"
   ]
  },
  {
   "cell_type": "code",
   "execution_count": 9,
   "metadata": {},
   "outputs": [
    {
     "data": {
      "text/plain": [
       "2381.0"
      ]
     },
     "execution_count": 9,
     "metadata": {},
     "output_type": "execute_result"
    }
   ],
   "source": [
    "4762/2"
   ]
  },
  {
   "cell_type": "code",
   "execution_count": 10,
   "metadata": {},
   "outputs": [
    {
     "data": {
      "text/html": [
       "<div>\n",
       "<style scoped>\n",
       "    .dataframe tbody tr th:only-of-type {\n",
       "        vertical-align: middle;\n",
       "    }\n",
       "\n",
       "    .dataframe tbody tr th {\n",
       "        vertical-align: top;\n",
       "    }\n",
       "\n",
       "    .dataframe thead th {\n",
       "        text-align: right;\n",
       "    }\n",
       "</style>\n",
       "<table border=\"1\" class=\"dataframe\">\n",
       "  <thead>\n",
       "    <tr style=\"text-align: right;\">\n",
       "      <th></th>\n",
       "      <th>Apple</th>\n",
       "      <th>Apricot</th>\n",
       "      <th>Asparagus</th>\n",
       "      <th>Basil</th>\n",
       "      <th>Beans</th>\n",
       "      <th>Broad Beans</th>\n",
       "      <th>Bush Beans</th>\n",
       "      <th>Climbing Beans</th>\n",
       "      <th>Beets</th>\n",
       "      <th>Borage</th>\n",
       "      <th>...</th>\n",
       "      <th>Spinach</th>\n",
       "      <th>Squash</th>\n",
       "      <th>Strawberries</th>\n",
       "      <th>Stinging Nettle</th>\n",
       "      <th>Sunﬂower</th>\n",
       "      <th>Tansy</th>\n",
       "      <th>Thyme</th>\n",
       "      <th>Tomato</th>\n",
       "      <th>Yarrow</th>\n",
       "      <th>Zucchini</th>\n",
       "    </tr>\n",
       "  </thead>\n",
       "  <tbody>\n",
       "    <tr>\n",
       "      <th>Apple</th>\n",
       "      <td>0.0</td>\n",
       "      <td>0.0</td>\n",
       "      <td>0.0</td>\n",
       "      <td>0.0</td>\n",
       "      <td>0.0</td>\n",
       "      <td>0.0</td>\n",
       "      <td>0.0</td>\n",
       "      <td>0.0</td>\n",
       "      <td>0.0</td>\n",
       "      <td>0.0</td>\n",
       "      <td>...</td>\n",
       "      <td>1.0</td>\n",
       "      <td>0.0</td>\n",
       "      <td>0.0</td>\n",
       "      <td>0.0</td>\n",
       "      <td>0.0</td>\n",
       "      <td>1.0</td>\n",
       "      <td>0.0</td>\n",
       "      <td>0.0</td>\n",
       "      <td>1.0</td>\n",
       "      <td>0.0</td>\n",
       "    </tr>\n",
       "    <tr>\n",
       "      <th>Apricot</th>\n",
       "      <td>0.0</td>\n",
       "      <td>0.0</td>\n",
       "      <td>0.0</td>\n",
       "      <td>1.0</td>\n",
       "      <td>0.0</td>\n",
       "      <td>0.0</td>\n",
       "      <td>0.0</td>\n",
       "      <td>0.0</td>\n",
       "      <td>0.0</td>\n",
       "      <td>0.0</td>\n",
       "      <td>...</td>\n",
       "      <td>1.0</td>\n",
       "      <td>0.0</td>\n",
       "      <td>0.0</td>\n",
       "      <td>1.0</td>\n",
       "      <td>1.0</td>\n",
       "      <td>1.0</td>\n",
       "      <td>0.0</td>\n",
       "      <td>-1.0</td>\n",
       "      <td>1.0</td>\n",
       "      <td>0.0</td>\n",
       "    </tr>\n",
       "    <tr>\n",
       "      <th>Asparagus</th>\n",
       "      <td>0.0</td>\n",
       "      <td>0.0</td>\n",
       "      <td>0.0</td>\n",
       "      <td>1.0</td>\n",
       "      <td>0.0</td>\n",
       "      <td>0.0</td>\n",
       "      <td>0.0</td>\n",
       "      <td>0.0</td>\n",
       "      <td>0.0</td>\n",
       "      <td>0.0</td>\n",
       "      <td>...</td>\n",
       "      <td>0.0</td>\n",
       "      <td>0.0</td>\n",
       "      <td>0.0</td>\n",
       "      <td>0.0</td>\n",
       "      <td>0.0</td>\n",
       "      <td>0.0</td>\n",
       "      <td>0.0</td>\n",
       "      <td>1.0</td>\n",
       "      <td>0.0</td>\n",
       "      <td>0.0</td>\n",
       "    </tr>\n",
       "    <tr>\n",
       "      <th>Basil</th>\n",
       "      <td>0.0</td>\n",
       "      <td>1.0</td>\n",
       "      <td>1.0</td>\n",
       "      <td>0.0</td>\n",
       "      <td>0.0</td>\n",
       "      <td>0.0</td>\n",
       "      <td>0.0</td>\n",
       "      <td>0.0</td>\n",
       "      <td>0.0</td>\n",
       "      <td>0.0</td>\n",
       "      <td>...</td>\n",
       "      <td>0.0</td>\n",
       "      <td>0.0</td>\n",
       "      <td>0.0</td>\n",
       "      <td>0.0</td>\n",
       "      <td>0.0</td>\n",
       "      <td>0.0</td>\n",
       "      <td>0.0</td>\n",
       "      <td>1.0</td>\n",
       "      <td>0.0</td>\n",
       "      <td>0.0</td>\n",
       "    </tr>\n",
       "    <tr>\n",
       "      <th>Beans</th>\n",
       "      <td>0.0</td>\n",
       "      <td>0.0</td>\n",
       "      <td>0.0</td>\n",
       "      <td>0.0</td>\n",
       "      <td>0.0</td>\n",
       "      <td>0.0</td>\n",
       "      <td>0.0</td>\n",
       "      <td>0.0</td>\n",
       "      <td>0.0</td>\n",
       "      <td>0.0</td>\n",
       "      <td>...</td>\n",
       "      <td>0.0</td>\n",
       "      <td>0.0</td>\n",
       "      <td>0.0</td>\n",
       "      <td>0.0</td>\n",
       "      <td>0.0</td>\n",
       "      <td>0.0</td>\n",
       "      <td>0.0</td>\n",
       "      <td>0.0</td>\n",
       "      <td>0.0</td>\n",
       "      <td>0.0</td>\n",
       "    </tr>\n",
       "    <tr>\n",
       "      <th>...</th>\n",
       "      <td>...</td>\n",
       "      <td>...</td>\n",
       "      <td>...</td>\n",
       "      <td>...</td>\n",
       "      <td>...</td>\n",
       "      <td>...</td>\n",
       "      <td>...</td>\n",
       "      <td>...</td>\n",
       "      <td>...</td>\n",
       "      <td>...</td>\n",
       "      <td>...</td>\n",
       "      <td>...</td>\n",
       "      <td>...</td>\n",
       "      <td>...</td>\n",
       "      <td>...</td>\n",
       "      <td>...</td>\n",
       "      <td>...</td>\n",
       "      <td>...</td>\n",
       "      <td>...</td>\n",
       "      <td>...</td>\n",
       "      <td>...</td>\n",
       "    </tr>\n",
       "    <tr>\n",
       "      <th>Tansy</th>\n",
       "      <td>1.0</td>\n",
       "      <td>1.0</td>\n",
       "      <td>0.0</td>\n",
       "      <td>0.0</td>\n",
       "      <td>0.0</td>\n",
       "      <td>0.0</td>\n",
       "      <td>0.0</td>\n",
       "      <td>0.0</td>\n",
       "      <td>0.0</td>\n",
       "      <td>1.0</td>\n",
       "      <td>...</td>\n",
       "      <td>0.0</td>\n",
       "      <td>1.0</td>\n",
       "      <td>0.0</td>\n",
       "      <td>0.0</td>\n",
       "      <td>0.0</td>\n",
       "      <td>0.0</td>\n",
       "      <td>0.0</td>\n",
       "      <td>0.0</td>\n",
       "      <td>1.0</td>\n",
       "      <td>0.0</td>\n",
       "    </tr>\n",
       "    <tr>\n",
       "      <th>Thyme</th>\n",
       "      <td>0.0</td>\n",
       "      <td>0.0</td>\n",
       "      <td>0.0</td>\n",
       "      <td>0.0</td>\n",
       "      <td>0.0</td>\n",
       "      <td>0.0</td>\n",
       "      <td>0.0</td>\n",
       "      <td>0.0</td>\n",
       "      <td>0.0</td>\n",
       "      <td>0.0</td>\n",
       "      <td>...</td>\n",
       "      <td>0.0</td>\n",
       "      <td>0.0</td>\n",
       "      <td>0.0</td>\n",
       "      <td>0.0</td>\n",
       "      <td>0.0</td>\n",
       "      <td>0.0</td>\n",
       "      <td>0.0</td>\n",
       "      <td>0.0</td>\n",
       "      <td>0.0</td>\n",
       "      <td>0.0</td>\n",
       "    </tr>\n",
       "    <tr>\n",
       "      <th>Tomato</th>\n",
       "      <td>0.0</td>\n",
       "      <td>-1.0</td>\n",
       "      <td>1.0</td>\n",
       "      <td>1.0</td>\n",
       "      <td>0.0</td>\n",
       "      <td>0.0</td>\n",
       "      <td>0.0</td>\n",
       "      <td>0.0</td>\n",
       "      <td>-1.0</td>\n",
       "      <td>1.0</td>\n",
       "      <td>...</td>\n",
       "      <td>0.0</td>\n",
       "      <td>0.0</td>\n",
       "      <td>0.0</td>\n",
       "      <td>1.0</td>\n",
       "      <td>0.0</td>\n",
       "      <td>0.0</td>\n",
       "      <td>0.0</td>\n",
       "      <td>0.0</td>\n",
       "      <td>0.0</td>\n",
       "      <td>0.0</td>\n",
       "    </tr>\n",
       "    <tr>\n",
       "      <th>Yarrow</th>\n",
       "      <td>1.0</td>\n",
       "      <td>1.0</td>\n",
       "      <td>0.0</td>\n",
       "      <td>0.0</td>\n",
       "      <td>0.0</td>\n",
       "      <td>0.0</td>\n",
       "      <td>0.0</td>\n",
       "      <td>0.0</td>\n",
       "      <td>0.0</td>\n",
       "      <td>0.0</td>\n",
       "      <td>...</td>\n",
       "      <td>0.0</td>\n",
       "      <td>0.0</td>\n",
       "      <td>0.0</td>\n",
       "      <td>0.0</td>\n",
       "      <td>0.0</td>\n",
       "      <td>0.0</td>\n",
       "      <td>0.0</td>\n",
       "      <td>0.0</td>\n",
       "      <td>0.0</td>\n",
       "      <td>0.0</td>\n",
       "    </tr>\n",
       "    <tr>\n",
       "      <th>Zucchini</th>\n",
       "      <td>0.0</td>\n",
       "      <td>0.0</td>\n",
       "      <td>0.0</td>\n",
       "      <td>0.0</td>\n",
       "      <td>0.0</td>\n",
       "      <td>0.0</td>\n",
       "      <td>0.0</td>\n",
       "      <td>0.0</td>\n",
       "      <td>0.0</td>\n",
       "      <td>0.0</td>\n",
       "      <td>...</td>\n",
       "      <td>0.0</td>\n",
       "      <td>0.0</td>\n",
       "      <td>0.0</td>\n",
       "      <td>0.0</td>\n",
       "      <td>0.0</td>\n",
       "      <td>0.0</td>\n",
       "      <td>0.0</td>\n",
       "      <td>0.0</td>\n",
       "      <td>0.0</td>\n",
       "      <td>0.0</td>\n",
       "    </tr>\n",
       "  </tbody>\n",
       "</table>\n",
       "<p>68 rows × 68 columns</p>\n",
       "</div>"
      ],
      "text/plain": [
       "           Apple  Apricot  Asparagus  Basil  Beans  Broad Beans  Bush Beans  \\\n",
       "Apple        0.0      0.0        0.0    0.0    0.0          0.0         0.0   \n",
       "Apricot      0.0      0.0        0.0    1.0    0.0          0.0         0.0   \n",
       "Asparagus    0.0      0.0        0.0    1.0    0.0          0.0         0.0   \n",
       "Basil        0.0      1.0        1.0    0.0    0.0          0.0         0.0   \n",
       "Beans        0.0      0.0        0.0    0.0    0.0          0.0         0.0   \n",
       "...          ...      ...        ...    ...    ...          ...         ...   \n",
       "Tansy        1.0      1.0        0.0    0.0    0.0          0.0         0.0   \n",
       "Thyme        0.0      0.0        0.0    0.0    0.0          0.0         0.0   \n",
       "Tomato       0.0     -1.0        1.0    1.0    0.0          0.0         0.0   \n",
       "Yarrow       1.0      1.0        0.0    0.0    0.0          0.0         0.0   \n",
       "Zucchini     0.0      0.0        0.0    0.0    0.0          0.0         0.0   \n",
       "\n",
       "           Climbing Beans  Beets  Borage  ...  Spinach  Squash  Strawberries  \\\n",
       "Apple                 0.0    0.0     0.0  ...      1.0     0.0           0.0   \n",
       "Apricot               0.0    0.0     0.0  ...      1.0     0.0           0.0   \n",
       "Asparagus             0.0    0.0     0.0  ...      0.0     0.0           0.0   \n",
       "Basil                 0.0    0.0     0.0  ...      0.0     0.0           0.0   \n",
       "Beans                 0.0    0.0     0.0  ...      0.0     0.0           0.0   \n",
       "...                   ...    ...     ...  ...      ...     ...           ...   \n",
       "Tansy                 0.0    0.0     1.0  ...      0.0     1.0           0.0   \n",
       "Thyme                 0.0    0.0     0.0  ...      0.0     0.0           0.0   \n",
       "Tomato                0.0   -1.0     1.0  ...      0.0     0.0           0.0   \n",
       "Yarrow                0.0    0.0     0.0  ...      0.0     0.0           0.0   \n",
       "Zucchini              0.0    0.0     0.0  ...      0.0     0.0           0.0   \n",
       "\n",
       "           Stinging Nettle  Sunﬂower  Tansy  Thyme  Tomato  Yarrow  Zucchini  \n",
       "Apple                  0.0       0.0    1.0    0.0     0.0     1.0       0.0  \n",
       "Apricot                1.0       1.0    1.0    0.0    -1.0     1.0       0.0  \n",
       "Asparagus              0.0       0.0    0.0    0.0     1.0     0.0       0.0  \n",
       "Basil                  0.0       0.0    0.0    0.0     1.0     0.0       0.0  \n",
       "Beans                  0.0       0.0    0.0    0.0     0.0     0.0       0.0  \n",
       "...                    ...       ...    ...    ...     ...     ...       ...  \n",
       "Tansy                  0.0       0.0    0.0    0.0     0.0     1.0       0.0  \n",
       "Thyme                  0.0       0.0    0.0    0.0     0.0     0.0       0.0  \n",
       "Tomato                 1.0       0.0    0.0    0.0     0.0     0.0       0.0  \n",
       "Yarrow                 0.0       0.0    0.0    0.0     0.0     0.0       0.0  \n",
       "Zucchini               0.0       0.0    0.0    0.0     0.0     0.0       0.0  \n",
       "\n",
       "[68 rows x 68 columns]"
      ]
     },
     "execution_count": 10,
     "metadata": {},
     "output_type": "execute_result"
    }
   ],
   "source": [
    "df1=df.replace(0,-1).fillna(0).copy()\n",
    "df1"
   ]
  },
  {
   "cell_type": "code",
   "execution_count": 58,
   "metadata": {},
   "outputs": [
    {
     "data": {
      "text/plain": [
       "Index(['Apple', 'Apricot', 'Asparagus', 'Basil', 'Beans', 'Broad Beans',\n",
       "       'Bush Beans', 'Climbing Beans', 'Beets', 'Borage', 'Broccoli',\n",
       "       'Brussell Sprouts', 'Cabbages', 'Chamomile', 'Carrots', 'Cauliflower',\n",
       "       'Celery', 'Cherry', 'Chervil', 'Chives', 'Coriander', 'Corn',\n",
       "       'Cucumber', 'Dill', 'Eggplant', 'Fennel', 'Marigold', 'Fruit Trees',\n",
       "       'Garlic', 'Gooseberry', 'Grape Vine', 'Grass', 'Horseradish',\n",
       "       'Lavender', 'Leeks', 'Lemon Balm', 'Lettuce', 'Marjoram', 'Mints',\n",
       "       'Mulberry', 'Mustard', 'Nasturtiums', 'Onions', 'Parsley', 'Parsnip',\n",
       "       'Peas', 'Pennyroyal', 'Potato', 'Pumpkin', 'Radish', 'Raspberry',\n",
       "       'Rosemary', 'Roses', 'Rue', 'Sage', 'Savory', 'Shallots', 'Silverbeet',\n",
       "       'Spinach', 'Squash', 'Strawberries', 'Stinging Nettle', 'Sunﬂower',\n",
       "       'Tansy', 'Thyme', 'Tomato', 'Yarrow', 'Zucchini'],\n",
       "      dtype='object')"
      ]
     },
     "execution_count": 58,
     "metadata": {},
     "output_type": "execute_result"
    }
   ],
   "source": [
    "df1.columns"
   ]
  },
  {
   "cell_type": "code",
   "execution_count": 59,
   "metadata": {},
   "outputs": [
    {
     "data": {
      "text/plain": [
       "Index(['Apple', 'Apricot', 'Asparagus', 'Basil', 'Beans', 'Broad Beans',\n",
       "       'Bush Beans', 'Climbing Beans', 'Beets', 'Borage', 'Broccoli',\n",
       "       'Brussell Sprouts', 'Cabbages', 'Chamomile', 'Carrots', 'Cauliflower',\n",
       "       'Celery', 'Cherry', 'Chervil', 'Chives', 'Coriander', 'Corn',\n",
       "       'Cucumber', 'Dill', 'Eggplant', 'Fennel', 'Marigold', 'Fruit Trees',\n",
       "       'Garlic', 'Gooseberry', 'Grape Vine', 'Grass', 'Horseradish',\n",
       "       'Lavender', 'Leeks', 'Lemon Balm', 'Lettuce', 'Marjoram', 'Mints',\n",
       "       'Mulberry', 'Mustard', 'Nasturtiums', 'Onions', 'Parsley', 'Parsnip',\n",
       "       'Peas', 'Pennyroyal', 'Potato', 'Pumpkin', 'Radish', 'Raspberry',\n",
       "       'Rosemary', 'Roses', 'Rue', 'Sage', 'Savory', 'Shallots', 'Silverbeet',\n",
       "       'Spinach', 'Squash', 'Strawberries', 'Stinging Nettle', 'Sunﬂower',\n",
       "       'Tansy', 'Thyme', 'Tomato', 'Yarrow', 'Zucchini'],\n",
       "      dtype='object')"
      ]
     },
     "execution_count": 59,
     "metadata": {},
     "output_type": "execute_result"
    }
   ],
   "source": [
    "df1.index"
   ]
  },
  {
   "cell_type": "code",
   "execution_count": 62,
   "metadata": {},
   "outputs": [
    {
     "name": "stdout",
     "output_type": "stream",
     "text": [
      "The column name and index are the same.\n"
     ]
    }
   ],
   "source": [
    "if((df1.index==df1.columns).min()):\n",
    "    print(\"The column name and index are the same.\")"
   ]
  },
  {
   "cell_type": "markdown",
   "metadata": {},
   "source": [
    "### Data QA"
   ]
  },
  {
   "cell_type": "code",
   "execution_count": 21,
   "metadata": {},
   "outputs": [
    {
     "data": {
      "text/plain": [
       "array([[1, 2],\n",
       "       [3, 4]])"
      ]
     },
     "execution_count": 21,
     "metadata": {},
     "output_type": "execute_result"
    }
   ],
   "source": [
    "test=np.array([\n",
    "    [1,2]\n",
    "    ,[3,4]\n",
    "])\n",
    "test"
   ]
  },
  {
   "cell_type": "code",
   "execution_count": 26,
   "metadata": {},
   "outputs": [
    {
     "name": "stdout",
     "output_type": "stream",
     "text": [
      "At least one coordinate is not equal.\n"
     ]
    }
   ],
   "source": [
    "if((test.transpose()==test).min()==False):\n",
    "    print(\"At least one coordinate is not equal.\")\n",
    "else:\n",
    "    print(\"All is correct.\")"
   ]
  },
  {
   "cell_type": "code",
   "execution_count": 16,
   "metadata": {},
   "outputs": [
    {
     "data": {
      "text/plain": [
       "array([[ 0.,  0.,  0., ...,  0.,  1.,  0.],\n",
       "       [ 0.,  0.,  0., ..., -1.,  1.,  0.],\n",
       "       [ 0.,  0.,  0., ...,  1.,  0.,  0.],\n",
       "       ...,\n",
       "       [ 0., -1.,  1., ...,  0.,  0.,  0.],\n",
       "       [ 1.,  1.,  0., ...,  0.,  0.,  0.],\n",
       "       [ 0.,  0.,  0., ...,  0.,  0.,  0.]])"
      ]
     },
     "execution_count": 16,
     "metadata": {},
     "output_type": "execute_result"
    }
   ],
   "source": [
    "np.array(df1).transpose()"
   ]
  },
  {
   "cell_type": "code",
   "execution_count": 35,
   "metadata": {},
   "outputs": [
    {
     "name": "stdout",
     "output_type": "stream",
     "text": [
      "At least one coordinate is not equal.\n"
     ]
    }
   ],
   "source": [
    "compare_df=np.array(df1)\n",
    "compare_df_transpose=compare_df.transpose()\n",
    "\n",
    "if((compare_df==compare_df_transpose).min()==False):\n",
    "    print(\"At least one coordinate is not equal.\")\n",
    "else:\n",
    "    print(\"All is correct.\")"
   ]
  },
  {
   "cell_type": "code",
   "execution_count": 40,
   "metadata": {},
   "outputs": [],
   "source": [
    "filterCompare=(compare_df==compare_df_transpose)"
   ]
  },
  {
   "cell_type": "code",
   "execution_count": 46,
   "metadata": {},
   "outputs": [],
   "source": [
    "row, col=np.where(filterCompare==False)"
   ]
  },
  {
   "cell_type": "code",
   "execution_count": 49,
   "metadata": {},
   "outputs": [
    {
     "data": {
      "text/plain": [
       "array([[ 0.,  0.,  0., ...,  0.,  1.,  0.],\n",
       "       [ 0.,  0.,  0., ..., -1.,  1.,  0.],\n",
       "       [ 0.,  0.,  0., ...,  1.,  0.,  0.],\n",
       "       ...,\n",
       "       [ 0., -1.,  1., ...,  0.,  0.,  0.],\n",
       "       [ 1.,  1.,  0., ...,  0.,  0.,  0.],\n",
       "       [ 0.,  0.,  0., ...,  0.,  0.,  0.]])"
      ]
     },
     "execution_count": 49,
     "metadata": {},
     "output_type": "execute_result"
    }
   ],
   "source": [
    "compare_df"
   ]
  },
  {
   "cell_type": "code",
   "execution_count": 57,
   "metadata": {},
   "outputs": [
    {
     "data": {
      "text/plain": [
       "1.0"
      ]
     },
     "execution_count": 57,
     "metadata": {},
     "output_type": "execute_result"
    }
   ],
   "source": [
    "df1.iloc[r,c]"
   ]
  },
  {
   "cell_type": "code",
   "execution_count": 64,
   "metadata": {
    "collapsed": true,
    "jupyter": {
     "outputs_hidden": true
    }
   },
   "outputs": [
    {
     "data": {
      "text/plain": [
       "Index(['Apple', 'Apricot', 'Asparagus', 'Basil', 'Beans', 'Broad Beans',\n",
       "       'Bush Beans', 'Climbing Beans', 'Beets', 'Borage', 'Broccoli',\n",
       "       'Brussell Sprouts', 'Cabbages', 'Chamomile', 'Carrots', 'Cauliflower',\n",
       "       'Celery', 'Cherry', 'Chervil', 'Chives', 'Coriander', 'Corn',\n",
       "       'Cucumber', 'Dill', 'Eggplant', 'Fennel', 'Marigold', 'Fruit Trees',\n",
       "       'Garlic', 'Gooseberry', 'Grape Vine', 'Grass', 'Horseradish',\n",
       "       'Lavender', 'Leeks', 'Lemon Balm', 'Lettuce', 'Marjoram', 'Mints',\n",
       "       'Mulberry', 'Mustard', 'Nasturtiums', 'Onions', 'Parsley', 'Parsnip',\n",
       "       'Peas', 'Pennyroyal', 'Potato', 'Pumpkin', 'Radish', 'Raspberry',\n",
       "       'Rosemary', 'Roses', 'Rue', 'Sage', 'Savory', 'Shallots', 'Silverbeet',\n",
       "       'Spinach', 'Squash', 'Strawberries', 'Stinging Nettle', 'Sunﬂower',\n",
       "       'Tansy', 'Thyme', 'Tomato', 'Yarrow', 'Zucchini'],\n",
       "      dtype='object')"
      ]
     },
     "execution_count": 64,
     "metadata": {},
     "output_type": "execute_result"
    }
   ],
   "source": [
    "col_name=df1.columns\n",
    "col_name"
   ]
  },
  {
   "cell_type": "code",
   "execution_count": 65,
   "metadata": {},
   "outputs": [
    {
     "data": {
      "text/plain": [
       "'Apricot'"
      ]
     },
     "execution_count": 65,
     "metadata": {},
     "output_type": "execute_result"
    }
   ],
   "source": [
    "col_name[r]"
   ]
  },
  {
   "cell_type": "code",
   "execution_count": 91,
   "metadata": {
    "collapsed": true,
    "jupyter": {
     "outputs_hidden": true
    }
   },
   "outputs": [
    {
     "data": {
      "text/plain": [
       "[(1, 19),\n",
       " (3, 41),\n",
       " (4, 45),\n",
       " (7, 65),\n",
       " (9, 15),\n",
       " (9, 59),\n",
       " (10, 41),\n",
       " (12, 33),\n",
       " (12, 39),\n",
       " (12, 46),\n",
       " (13, 33),\n",
       " (14, 16),\n",
       " (14, 20),\n",
       " (14, 46),\n",
       " (14, 53),\n",
       " (15, 9),\n",
       " (15, 36),\n",
       " (16, 14),\n",
       " (16, 20),\n",
       " (16, 36),\n",
       " (17, 18),\n",
       " (17, 28),\n",
       " (17, 35),\n",
       " (17, 65),\n",
       " (18, 17),\n",
       " (18, 28),\n",
       " (18, 35),\n",
       " (18, 36),\n",
       " (18, 37),\n",
       " (18, 39),\n",
       " (18, 44),\n",
       " (18, 45),\n",
       " (18, 66),\n",
       " (19, 1),\n",
       " (19, 39),\n",
       " (19, 43),\n",
       " (19, 44),\n",
       " (19, 45),\n",
       " (19, 58),\n",
       " (20, 14),\n",
       " (20, 16),\n",
       " (20, 23),\n",
       " (20, 25),\n",
       " (20, 26),\n",
       " (20, 43),\n",
       " (20, 44),\n",
       " (21, 44),\n",
       " (21, 59),\n",
       " (22, 23),\n",
       " (23, 20),\n",
       " (23, 22),\n",
       " (23, 26),\n",
       " (23, 43),\n",
       " (23, 44),\n",
       " (24, 37),\n",
       " (25, 20),\n",
       " (25, 37),\n",
       " (26, 20),\n",
       " (26, 23),\n",
       " (26, 59),\n",
       " (27, 31),\n",
       " (27, 35),\n",
       " (27, 59),\n",
       " (28, 17),\n",
       " (28, 18),\n",
       " (28, 31),\n",
       " (28, 35),\n",
       " (28, 45),\n",
       " (28, 59),\n",
       " (28, 60),\n",
       " (29, 45),\n",
       " (31, 27),\n",
       " (31, 28),\n",
       " (33, 12),\n",
       " (33, 13),\n",
       " (33, 37),\n",
       " (33, 52),\n",
       " (33, 53),\n",
       " (33, 57),\n",
       " (34, 57),\n",
       " (35, 17),\n",
       " (35, 18),\n",
       " (35, 27),\n",
       " (35, 28),\n",
       " (35, 37),\n",
       " (35, 39),\n",
       " (35, 41),\n",
       " (35, 52),\n",
       " (35, 53),\n",
       " (36, 15),\n",
       " (36, 16),\n",
       " (36, 18),\n",
       " (36, 44),\n",
       " (36, 47),\n",
       " (36, 49),\n",
       " (36, 51),\n",
       " (37, 18),\n",
       " (37, 24),\n",
       " (37, 25),\n",
       " (37, 33),\n",
       " (37, 35),\n",
       " (37, 59),\n",
       " (39, 12),\n",
       " (39, 18),\n",
       " (39, 19),\n",
       " (39, 35),\n",
       " (41, 3),\n",
       " (41, 10),\n",
       " (41, 35),\n",
       " (41, 58),\n",
       " (42, 59),\n",
       " (43, 19),\n",
       " (43, 20),\n",
       " (43, 23),\n",
       " (44, 18),\n",
       " (44, 19),\n",
       " (44, 20),\n",
       " (44, 21),\n",
       " (44, 23),\n",
       " (44, 36),\n",
       " (45, 4),\n",
       " (45, 18),\n",
       " (45, 19),\n",
       " (45, 28),\n",
       " (45, 29),\n",
       " (46, 12),\n",
       " (46, 14),\n",
       " (47, 36),\n",
       " (47, 48),\n",
       " (47, 50),\n",
       " (48, 47),\n",
       " (49, 36),\n",
       " (50, 47),\n",
       " (50, 53),\n",
       " (51, 36),\n",
       " (52, 33),\n",
       " (52, 35),\n",
       " (53, 14),\n",
       " (53, 33),\n",
       " (53, 35),\n",
       " (53, 50),\n",
       " (57, 33),\n",
       " (57, 34),\n",
       " (58, 19),\n",
       " (58, 41),\n",
       " (59, 9),\n",
       " (59, 21),\n",
       " (59, 26),\n",
       " (59, 27),\n",
       " (59, 28),\n",
       " (59, 37),\n",
       " (59, 42),\n",
       " (59, 62),\n",
       " (59, 63),\n",
       " (60, 28),\n",
       " (62, 59),\n",
       " (63, 59),\n",
       " (63, 66),\n",
       " (65, 7),\n",
       " (65, 17),\n",
       " (66, 18),\n",
       " (66, 63)]"
      ]
     },
     "execution_count": 91,
     "metadata": {},
     "output_type": "execute_result"
    }
   ],
   "source": [
    "[x for x in zip(row,col)]"
   ]
  },
  {
   "cell_type": "markdown",
   "metadata": {},
   "source": [
    "#### Need to have an eye on this"
   ]
  },
  {
   "cell_type": "code",
   "execution_count": 101,
   "metadata": {},
   "outputs": [],
   "source": [
    "count=0\n",
    "col1=[]\n",
    "col2=[]\n",
    "value1=[]\n",
    "value2=[]\n",
    "\n",
    "for r, c in [x for x in zip(row,col)]:\n",
    "#     print(f\"\"\"coordinate[{count}]\n",
    "# ({col_name[r]},{col_name[c]}):{compare_df[r][c]}\n",
    "# ({col_name[c]},{col_name[r]}):{compare_df[c][r]}\n",
    "# \"\"\")\n",
    "#     count+=1\n",
    "    col1.append(col_name[r])\n",
    "    col2.append(col_name[c])\n",
    "    value1.append(compare_df[r][c])\n",
    "    value2.append(compare_df[c][r])"
   ]
  },
  {
   "cell_type": "code",
   "execution_count": 114,
   "metadata": {},
   "outputs": [],
   "source": [
    "pd.DataFrame({\n",
    "    'first_plant':col1\n",
    "    , 'second_plant':col2\n",
    "    , 'first_value':value1\n",
    "    , 'second_value':value2\n",
    "#     , 'final_value':[]\n",
    "}).to_csv('plant_mismatched_relationship_20210730.csv',index=False)"
   ]
  },
  {
   "cell_type": "code",
   "execution_count": 109,
   "metadata": {},
   "outputs": [
    {
     "data": {
      "text/plain": [
       "'C:\\\\Users\\\\apansukij'"
      ]
     },
     "execution_count": 109,
     "metadata": {},
     "output_type": "execute_result"
    }
   ],
   "source": [
    "pwd"
   ]
  },
  {
   "cell_type": "markdown",
   "metadata": {},
   "source": [
    "# <span style=\"color:green\">Knowledge</span>\n",
    "- case competition of standford student 2010: http://snap.stanford.edu/class/cs224w-2010/CS224w_competition.pdf\n",
    "- structural balance theory: network with signed edges\n",
    "- Need density-based clustering: https://realpython.com/k-means-clustering-python/"
   ]
  },
  {
   "cell_type": "markdown",
   "metadata": {},
   "source": [
    "## Fit Clustering\n",
    "- DBSCAN: Density-Based Spatial Clustering of Applications with Noise\n",
    " - https://scikit-learn.org/stable/modules/generated/sklearn.cluster.DBSCAN.html\n",
    " - https://scikit-learn.org/stable/modules/clustering.html#dbscan\n",
    "- OPTICS: Ordering Points To Identify the Clustering Structure\n",
    " - https://scikit-learn.org/stable/modules/generated/sklearn.cluster.OPTICS.html#sklearn.cluster.OPTICS"
   ]
  },
  {
   "cell_type": "code",
   "execution_count": 100,
   "metadata": {},
   "outputs": [],
   "source": [
    "from sklearn.cluster import DBSCAN"
   ]
  },
  {
   "cell_type": "code",
   "execution_count": null,
   "metadata": {},
   "outputs": [],
   "source": []
  },
  {
   "cell_type": "markdown",
   "metadata": {},
   "source": [
    "## Fit into graph with NetworkX(Signed Network Analysis)\n",
    "- convert pandas dataframe into graph\n",
    "- both positive and negative edges/relations\n",
    "- https://networkx.github.io/documentation/stable/reference/generated/networkx.convert_matrix.from_pandas_adjacency.html"
   ]
  },
  {
   "cell_type": "code",
   "execution_count": 16,
   "metadata": {},
   "outputs": [
    {
     "data": {
      "text/plain": [
       "['from_dict_of_dicts',\n",
       " 'from_dict_of_lists',\n",
       " 'from_edgelist',\n",
       " 'from_graph6_bytes',\n",
       " 'from_nested_tuple',\n",
       " 'from_numpy_array',\n",
       " 'from_numpy_matrix',\n",
       " 'from_pandas_adjacency',\n",
       " 'from_pandas_edgelist',\n",
       " 'from_prufer_sequence',\n",
       " 'from_scipy_sparse_matrix',\n",
       " 'from_sparse6_bytes']"
      ]
     },
     "execution_count": 16,
     "metadata": {},
     "output_type": "execute_result"
    }
   ],
   "source": [
    "Network_att=dir(nx)\n",
    "[i for i in Network_att if re.search('from',i)]"
   ]
  },
  {
   "cell_type": "code",
   "execution_count": 17,
   "metadata": {},
   "outputs": [
    {
     "name": "stdout",
     "output_type": "stream",
     "text": [
      "Name: \n",
      "Type: Graph\n",
      "Number of nodes: 68\n",
      "Number of edges: 412\n",
      "Average degree:  12.1176\n"
     ]
    }
   ],
   "source": [
    "graph1=nx.from_pandas_adjacency(df1)\n",
    "print(nx.info(graph1))"
   ]
  },
  {
   "cell_type": "code",
   "execution_count": 138,
   "metadata": {},
   "outputs": [
    {
     "data": {
      "text/plain": [
       "['Carrots']"
      ]
     },
     "execution_count": 138,
     "metadata": {},
     "output_type": "execute_result"
    }
   ],
   "source": [
    "nodes=list(nx.nodes(graph1))\n",
    "[i for i in nodes if re.search('Car',i)]"
   ]
  },
  {
   "cell_type": "code",
   "execution_count": 8,
   "metadata": {
    "collapsed": true,
    "jupyter": {
     "outputs_hidden": true
    }
   },
   "outputs": [
    {
     "data": {
      "text/plain": [
       "['Carrots',\n",
       " 'Apple',\n",
       " 'Apricot',\n",
       " 'Asparagus',\n",
       " 'Basil',\n",
       " 'Beans',\n",
       " 'Broad Beans',\n",
       " 'Bush Beans',\n",
       " 'Climbing Beans',\n",
       " 'Beets',\n",
       " 'Borage',\n",
       " 'Broccoli',\n",
       " 'Brussell Sprouts',\n",
       " 'Cabbages',\n",
       " 'Chamomile',\n",
       " 'Cauliflower',\n",
       " 'Celery',\n",
       " 'Cherry',\n",
       " 'Chervil',\n",
       " 'Chives',\n",
       " 'Coriander',\n",
       " 'Corn',\n",
       " 'Cucumber',\n",
       " 'Dill',\n",
       " 'Eggplant',\n",
       " 'Fennel',\n",
       " 'Marigold',\n",
       " 'Fruit Trees',\n",
       " 'Garlic',\n",
       " 'Gooseberry',\n",
       " 'Grape Vine',\n",
       " 'Grass',\n",
       " 'Horseradish',\n",
       " 'Lavender',\n",
       " 'Leeks',\n",
       " 'Lemon Balm',\n",
       " 'Lettuce',\n",
       " 'Marjoram',\n",
       " 'Mints',\n",
       " 'Mulberry',\n",
       " 'Mustard',\n",
       " 'Nasturtiums',\n",
       " 'Onions',\n",
       " 'Parsley',\n",
       " 'Peas',\n",
       " 'Pennyroyal',\n",
       " 'Potato',\n",
       " 'Pumpkin',\n",
       " 'Radish',\n",
       " 'Raspberry',\n",
       " 'Rosemary',\n",
       " 'Roses',\n",
       " 'Rue',\n",
       " 'Sage',\n",
       " 'Savory',\n",
       " 'Shallots',\n",
       " 'Silverbeet',\n",
       " 'Spinach',\n",
       " 'Squash',\n",
       " 'Strawberries',\n",
       " 'Stinging Nettle',\n",
       " 'Sunﬂower',\n",
       " 'Tansy',\n",
       " 'Thyme',\n",
       " 'Tomato',\n",
       " 'Yarrow',\n",
       " 'Zucchini']"
      ]
     },
     "execution_count": 8,
     "metadata": {},
     "output_type": "execute_result"
    }
   ],
   "source": [
    "[i for i in nx.neighbors(graph1,'Carrots')]"
   ]
  },
  {
   "cell_type": "code",
   "execution_count": 18,
   "metadata": {
    "collapsed": true,
    "jupyter": {
     "outputs_hidden": true
    }
   },
   "outputs": [
    {
     "data": {
      "text/plain": [
       "EdgeView([('Apple', 'Chives'), ('Apple', 'Marigold'), ('Apple', 'Garlic'), ('Apple', 'Grass'), ('Apple', 'Horseradish'), ('Apple', 'Lemon Balm'), ('Apple', 'Mustard'), ('Apple', 'Nasturtiums'), ('Apple', 'Potato'), ('Apple', 'Spinach'), ('Apple', 'Tansy'), ('Apple', 'Yarrow'), ('Apricot', 'Basil'), ('Apricot', 'Chives'), ('Apricot', 'Marigold'), ('Apricot', 'Garlic'), ('Apricot', 'Grass'), ('Apricot', 'Horseradish'), ('Apricot', 'Lemon Balm'), ('Apricot', 'Mustard'), ('Apricot', 'Nasturtiums'), ('Apricot', 'Spinach'), ('Apricot', 'Stinging Nettle'), ('Apricot', 'Sunﬂower'), ('Apricot', 'Tansy'), ('Apricot', 'Tomato'), ('Apricot', 'Yarrow'), ('Asparagus', 'Basil'), ('Asparagus', 'Chives'), ('Asparagus', 'Marjoram'), ('Asparagus', 'Parsley'), ('Asparagus', 'Tomato'), ('Basil', 'Chives'), ('Basil', 'Cucumber'), ('Basil', 'Fennel'), ('Basil', 'Nasturtiums'), ('Basil', 'Rue'), ('Basil', 'Silverbeet'), ('Basil', 'Tomato'), ('Beans', 'Broccoli'), ('Beans', 'Brussell Sprouts'), ('Beans', 'Cabbages'), ('Beans', 'Carrots'), ('Beans', 'Cauliflower'), ('Beans', 'Chives'), ('Beans', 'Corn'), ('Beans', 'Cucumber'), ('Beans', 'Eggplant'), ('Beans', 'Fennel'), ('Beans', 'Marigold'), ('Beans', 'Garlic'), ('Beans', 'Grape Vine'), ('Beans', 'Lettuce'), ('Beans', 'Marjoram'), ('Beans', 'Onions'), ('Beans', 'Parsley'), ('Beans', 'Parsnip'), ('Beans', 'Peas'), ('Beans', 'Potato'), ('Beans', 'Rosemary'), ('Beans', 'Sage'), ('Beans', 'Savory'), ('Beans', 'Shallots'), ('Broad Beans', 'Broccoli'), ('Broad Beans', 'Brussell Sprouts'), ('Broad Beans', 'Cabbages'), ('Broad Beans', 'Cauliflower'), ('Broad Beans', 'Chives'), ('Broad Beans', 'Corn'), ('Broad Beans', 'Fennel'), ('Broad Beans', 'Garlic'), ('Broad Beans', 'Lettuce'), ('Broad Beans', 'Marjoram'), ('Broad Beans', 'Onions'), ('Broad Beans', 'Potato'), ('Broad Beans', 'Spinach'), ('Bush Beans', 'Beets'), ('Bush Beans', 'Broccoli'), ('Bush Beans', 'Brussell Sprouts'), ('Bush Beans', 'Cabbages'), ('Bush Beans', 'Cauliflower'), ('Bush Beans', 'Celery'), ('Bush Beans', 'Chives'), ('Bush Beans', 'Corn'), ('Bush Beans', 'Cucumber'), ('Bush Beans', 'Garlic'), ('Bush Beans', 'Marjoram'), ('Bush Beans', 'Onions'), ('Bush Beans', 'Potato'), ('Bush Beans', 'Strawberries'), ('Bush Beans', 'Sunﬂower'), ('Climbing Beans', 'Beets'), ('Climbing Beans', 'Broccoli'), ('Climbing Beans', 'Brussell Sprouts'), ('Climbing Beans', 'Cabbages'), ('Climbing Beans', 'Cauliflower'), ('Climbing Beans', 'Chives'), ('Climbing Beans', 'Corn'), ('Climbing Beans', 'Garlic'), ('Climbing Beans', 'Lettuce'), ('Climbing Beans', 'Marjoram'), ('Climbing Beans', 'Onions'), ('Climbing Beans', 'Radish'), ('Climbing Beans', 'Sunﬂower'), ('Climbing Beans', 'Tomato'), ('Beets', 'Broccoli'), ('Beets', 'Brussell Sprouts'), ('Beets', 'Cabbages'), ('Beets', 'Cauliflower'), ('Beets', 'Dill'), ('Beets', 'Lettuce'), ('Beets', 'Marjoram'), ('Beets', 'Onions'), ('Beets', 'Potato'), ('Beets', 'Silverbeet'), ('Beets', 'Tomato'), ('Borage', 'Broccoli'), ('Borage', 'Brussell Sprouts'), ('Borage', 'Cabbages'), ('Borage', 'Cauliflower'), ('Borage', 'Cucumber'), ('Borage', 'Peas'), ('Borage', 'Squash'), ('Borage', 'Strawberries'), ('Borage', 'Tansy'), ('Borage', 'Tomato'), ('Broccoli', 'Coriander'), ('Broccoli', 'Cucumber'), ('Broccoli', 'Dill'), ('Broccoli', 'Marigold'), ('Broccoli', 'Marjoram'), ('Broccoli', 'Nasturtiums'), ('Broccoli', 'Potato'), ('Broccoli', 'Rue'), ('Broccoli', 'Strawberries'), ('Broccoli', 'Tomato'), ('Brussell Sprouts', 'Coriander'), ('Brussell Sprouts', 'Cucumber'), ('Brussell Sprouts', 'Dill'), ('Brussell Sprouts', 'Marigold'), ('Brussell Sprouts', 'Marjoram'), ('Brussell Sprouts', 'Potato'), ('Brussell Sprouts', 'Strawberries'), ('Brussell Sprouts', 'Sunﬂower'), ('Cabbages', 'Chamomile'), ('Cabbages', 'Celery'), ('Cabbages', 'Coriander'), ('Cabbages', 'Cucumber'), ('Cabbages', 'Dill'), ('Cabbages', 'Marigold'), ('Cabbages', 'Garlic'), ('Cabbages', 'Lavender'), ('Cabbages', 'Lettuce'), ('Cabbages', 'Marjoram'), ('Cabbages', 'Mints'), ('Cabbages', 'Mulberry'), ('Cabbages', 'Nasturtiums'), ('Cabbages', 'Onions'), ('Cabbages', 'Peas'), ('Cabbages', 'Pennyroyal'), ('Cabbages', 'Potato'), ('Cabbages', 'Rosemary'), ('Cabbages', 'Rue'), ('Cabbages', 'Sage'), ('Cabbages', 'Strawberries'), ('Cabbages', 'Tansy'), ('Cabbages', 'Thyme'), ('Cabbages', 'Tomato'), ('Chamomile', 'Lavender'), ('Chamomile', 'Mints'), ('Carrots', 'Celery'), ('Carrots', 'Chives'), ('Carrots', 'Coriander'), ('Carrots', 'Cucumber'), ('Carrots', 'Dill'), ('Carrots', 'Marigold'), ('Carrots', 'Fruit Trees'), ('Carrots', 'Leeks'), ('Carrots', 'Lettuce'), ('Carrots', 'Marjoram'), ('Carrots', 'Onions'), ('Carrots', 'Parsnip'), ('Carrots', 'Peas'), ('Carrots', 'Pennyroyal'), ('Carrots', 'Radish'), ('Carrots', 'Rosemary'), ('Carrots', 'Rue'), ('Carrots', 'Sage'), ('Carrots', 'Tomato'), ('Cauliflower', 'Celery'), ('Cauliflower', 'Coriander'), ('Cauliflower', 'Cucumber'), ('Cauliflower', 'Dill'), ('Cauliflower', 'Marigold'), ('Cauliflower', 'Lettuce'), ('Cauliflower', 'Marjoram'), ('Cauliflower', 'Potato'), ('Cauliflower', 'Rue'), ('Cauliflower', 'Strawberries'), ('Cauliflower', 'Tomato'), ('Celery', 'Coriander'), ('Celery', 'Dill'), ('Celery', 'Leeks'), ('Celery', 'Lettuce'), ('Celery', 'Marjoram'), ('Celery', 'Parsnip'), ('Celery', 'Peas'), ('Celery', 'Potato'), ('Celery', 'Tomato'), ('Cherry', 'Chervil'), ('Cherry', 'Chives'), ('Cherry', 'Marigold'), ('Cherry', 'Garlic'), ('Cherry', 'Grass'), ('Cherry', 'Horseradish'), ('Cherry', 'Lemon Balm'), ('Cherry', 'Lettuce'), ('Cherry', 'Mustard'), ('Cherry', 'Nasturtiums'), ('Cherry', 'Potato'), ('Cherry', 'Silverbeet'), ('Cherry', 'Spinach'), ('Cherry', 'Tansy'), ('Cherry', 'Tomato'), ('Cherry', 'Yarrow'), ('Chervil', 'Coriander'), ('Chervil', 'Dill'), ('Chervil', 'Garlic'), ('Chervil', 'Lemon Balm'), ('Chervil', 'Lettuce'), ('Chervil', 'Marjoram'), ('Chervil', 'Mulberry'), ('Chervil', 'Parsley'), ('Chervil', 'Parsnip'), ('Chervil', 'Peas'), ('Chervil', 'Radish'), ('Chervil', 'Yarrow'), ('Chives', 'Fruit Trees'), ('Chives', 'Marjoram'), ('Chives', 'Mulberry'), ('Chives', 'Parsley'), ('Chives', 'Parsnip'), ('Chives', 'Peas'), ('Chives', 'Roses'), ('Chives', 'Spinach'), ('Chives', 'Strawberries'), ('Chives', 'Tomato'), ('Coriander', 'Dill'), ('Coriander', 'Fennel'), ('Coriander', 'Marigold'), ('Coriander', 'Parsley'), ('Coriander', 'Parsnip'), ('Corn', 'Cucumber'), ('Corn', 'Marjoram'), ('Corn', 'Parsnip'), ('Corn', 'Peas'), ('Corn', 'Potato'), ('Corn', 'Pumpkin'), ('Corn', 'Radish'), ('Corn', 'Squash'), ('Corn', 'Zucchini'), ('Cucumber', 'Dill'), ('Cucumber', 'Lettuce'), ('Cucumber', 'Marjoram'), ('Cucumber', 'Nasturtiums'), ('Cucumber', 'Peas'), ('Cucumber', 'Potato'), ('Cucumber', 'Radish'), ('Cucumber', 'Sage'), ('Cucumber', 'Sunﬂower'), ('Cucumber', 'Tansy'), ('Dill', 'Fennel'), ('Dill', 'Marigold'), ('Dill', 'Parsley'), ('Dill', 'Parsnip'), ('Dill', 'Tomato'), ('Eggplant', 'Marjoram'), ('Eggplant', 'Potato'), ('Fennel', 'Lavender'), ('Fennel', 'Marjoram'), ('Fennel', 'Tomato'), ('Marigold', 'Fruit Trees'), ('Marigold', 'Lettuce'), ('Marigold', 'Mulberry'), ('Marigold', 'Potato'), ('Marigold', 'Raspberry'), ('Marigold', 'Roses'), ('Marigold', 'Squash'), ('Marigold', 'Strawberries'), ('Marigold', 'Tomato'), ('Fruit Trees', 'Garlic'), ('Fruit Trees', 'Grass'), ('Fruit Trees', 'Lemon Balm'), ('Fruit Trees', 'Mustard'), ('Fruit Trees', 'Nasturtiums'), ('Fruit Trees', 'Silverbeet'), ('Fruit Trees', 'Spinach'), ('Fruit Trees', 'Squash'), ('Fruit Trees', 'Stinging Nettle'), ('Fruit Trees', 'Tansy'), ('Fruit Trees', 'Yarrow'), ('Garlic', 'Grass'), ('Garlic', 'Lavender'), ('Garlic', 'Lemon Balm'), ('Garlic', 'Mulberry'), ('Garlic', 'Peas'), ('Garlic', 'Rosemary'), ('Garlic', 'Roses'), ('Garlic', 'Squash'), ('Garlic', 'Strawberries'), ('Garlic', 'Sunﬂower'), ('Gooseberry', 'Peas'), ('Gooseberry', 'Tomato'), ('Grape Vine', 'Mulberry'), ('Grape Vine', 'Mustard'), ('Grape Vine', 'Tansy'), ('Grape Vine', 'Tomato'), ('Grape Vine', 'Yarrow'), ('Grass', 'Mulberry'), ('Grass', 'Sage'), ('Grass', 'Yarrow'), ('Horseradish', 'Potato'), ('Horseradish', 'Roses'), ('Horseradish', 'Stinging Nettle'), ('Lavender', 'Marjoram'), ('Lavender', 'Roses'), ('Lavender', 'Rue'), ('Lavender', 'Silverbeet'), ('Lavender', 'Strawberries'), ('Leeks', 'Marjoram'), ('Leeks', 'Onions'), ('Leeks', 'Silverbeet'), ('Lemon Balm', 'Marjoram'), ('Lemon Balm', 'Mulberry'), ('Lemon Balm', 'Nasturtiums'), ('Lemon Balm', 'Roses'), ('Lemon Balm', 'Rue'), ('Lettuce', 'Marjoram'), ('Lettuce', 'Onions'), ('Lettuce', 'Parsley'), ('Lettuce', 'Parsnip'), ('Lettuce', 'Peas'), ('Lettuce', 'Potato'), ('Lettuce', 'Radish'), ('Lettuce', 'Rosemary'), ('Lettuce', 'Strawberries'), ('Marjoram', 'Onions'), ('Marjoram', 'Parsnip'), ('Marjoram', 'Peas'), ('Marjoram', 'Potato'), ('Marjoram', 'Pumpkin'), ('Marjoram', 'Radish'), ('Marjoram', 'Shallots'), ('Marjoram', 'Silverbeet'), ('Marjoram', 'Spinach'), ('Marjoram', 'Squash'), ('Marjoram', 'Tomato'), ('Marjoram', 'Zucchini'), ('Mints', 'Parsley'), ('Mints', 'Tomato'), ('Mulberry', 'Mustard'), ('Mulberry', 'Nasturtiums'), ('Mulberry', 'Silverbeet'), ('Mulberry', 'Spinach'), ('Mulberry', 'Tansy'), ('Mulberry', 'Yarrow'), ('Nasturtiums', 'Potato'), ('Nasturtiums', 'Radish'), ('Nasturtiums', 'Roses'), ('Nasturtiums', 'Spinach'), ('Nasturtiums', 'Tomato'), ('Nasturtiums', 'Zucchini'), ('Onions', 'Parsley'), ('Onions', 'Parsnip'), ('Onions', 'Peas'), ('Onions', 'Roses'), ('Onions', 'Savory'), ('Onions', 'Silverbeet'), ('Onions', 'Squash'), ('Onions', 'Strawberries'), ('Onions', 'Tomato'), ('Parsley', 'Rosemary'), ('Parsley', 'Roses'), ('Parsley', 'Tomato'), ('Parsnip', 'Peas'), ('Parsnip', 'Potato'), ('Parsnip', 'Radish'), ('Parsnip', 'Sage'), ('Parsnip', 'Tomato'), ('Peas', 'Potato'), ('Peas', 'Raspberry'), ('Peas', 'Sage'), ('Peas', 'Shallots'), ('Potato', 'Pumpkin'), ('Potato', 'Raspberry'), ('Potato', 'Rosemary'), ('Potato', 'Sunﬂower'), ('Potato', 'Tomato'), ('Raspberry', 'Rue'), ('Rosemary', 'Sage'), ('Rosemary', 'Tomato'), ('Roses', 'Rue'), ('Roses', 'Sage'), ('Roses', 'Tansy'), ('Roses', 'Thyme'), ('Rue', 'Sage'), ('Sage', 'Strawberries'), ('Spinach', 'Strawberries'), ('Squash', 'Sunﬂower'), ('Squash', 'Tansy'), ('Stinging Nettle', 'Tomato'), ('Tansy', 'Yarrow')])"
      ]
     },
     "execution_count": 18,
     "metadata": {},
     "output_type": "execute_result"
    }
   ],
   "source": [
    "nx.edges(graph1)\n",
    "# print relationship"
   ]
  },
  {
   "cell_type": "markdown",
   "metadata": {},
   "source": [
    "From excel 624 companions/123 rivals\n",
    "- 312 companion combinations\n",
    "- 60 rival combinations"
   ]
  },
  {
   "cell_type": "code",
   "execution_count": 139,
   "metadata": {},
   "outputs": [
    {
     "data": {
      "text/plain": [
       "67"
      ]
     },
     "execution_count": 139,
     "metadata": {},
     "output_type": "execute_result"
    }
   ],
   "source": [
    "len([(u, v) for (u, v, d) in graph1.edges(data=True) if d['weight']== -1])\n",
    "# 345 companion relationships\n",
    "# 67 rival relationships"
   ]
  },
  {
   "cell_type": "code",
   "execution_count": 19,
   "metadata": {
    "collapsed": true,
    "jupyter": {
     "outputs_hidden": true
    }
   },
   "outputs": [
    {
     "name": "stdout",
     "output_type": "stream",
     "text": [
      "('Apple', 'Grass', -1.0)\n",
      "('Apple', 'Potato', -1.0)\n",
      "('Apricot', 'Grass', -1.0)\n",
      "('Apricot', 'Tomato', -1.0)\n",
      "('Basil', 'Rue', -1.0)\n",
      "('Basil', 'Silverbeet', -1.0)\n",
      "('Beans', 'Chives', -1.0)\n",
      "('Beans', 'Fennel', -1.0)\n",
      "('Beans', 'Garlic', -1.0)\n",
      "('Beans', 'Onions', -1.0)\n",
      "('Beans', 'Shallots', -1.0)\n",
      "('Broad Beans', 'Chives', -1.0)\n",
      "('Broad Beans', 'Fennel', -1.0)\n",
      "('Broad Beans', 'Garlic', -1.0)\n",
      "('Broad Beans', 'Onions', -1.0)\n",
      "('Bush Beans', 'Chives', -1.0)\n",
      "('Bush Beans', 'Garlic', -1.0)\n",
      "('Bush Beans', 'Onions', -1.0)\n",
      "('Climbing Beans', 'Beets', -1.0)\n",
      "('Climbing Beans', 'Chives', -1.0)\n",
      "('Climbing Beans', 'Garlic', -1.0)\n",
      "('Climbing Beans', 'Onions', -1.0)\n",
      "('Climbing Beans', 'Sunﬂower', -1.0)\n",
      "('Climbing Beans', 'Tomato', -1.0)\n",
      "('Beets', 'Tomato', -1.0)\n",
      "('Broccoli', 'Rue', -1.0)\n",
      "('Broccoli', 'Strawberries', -1.0)\n",
      "('Cabbages', 'Garlic', -1.0)\n",
      "('Cabbages', 'Rue', -1.0)\n",
      "('Cabbages', 'Strawberries', -1.0)\n",
      "('Cabbages', 'Tomato', -1.0)\n",
      "('Chamomile', 'Mints', -1.0)\n",
      "('Carrots', 'Parsnip', -1.0)\n",
      "('Cauliflower', 'Rue', -1.0)\n",
      "('Cauliflower', 'Strawberries', -1.0)\n",
      "('Celery', 'Parsnip', -1.0)\n",
      "('Celery', 'Potato', -1.0)\n",
      "('Cherry', 'Grass', -1.0)\n",
      "('Cherry', 'Potato', -1.0)\n",
      "('Chervil', 'Parsnip', -1.0)\n",
      "('Chervil', 'Peas', -1.0)\n",
      "('Coriander', 'Fennel', -1.0)\n",
      "('Coriander', 'Marigold', -1.0)\n",
      "('Coriander', 'Parsnip', -1.0)\n",
      "('Corn', 'Parsnip', -1.0)\n",
      "('Cucumber', 'Potato', -1.0)\n",
      "('Cucumber', 'Sage', -1.0)\n",
      "('Dill', 'Parsnip', -1.0)\n",
      "('Fennel', 'Lavender', -1.0)\n",
      "('Fennel', 'Tomato', -1.0)\n",
      "('Fruit Trees', 'Grass', -1.0)\n",
      "('Garlic', 'Grass', -1.0)\n",
      "('Garlic', 'Peas', -1.0)\n",
      "('Garlic', 'Squash', -1.0)\n",
      "('Garlic', 'Strawberries', -1.0)\n",
      "('Garlic', 'Sunﬂower', -1.0)\n",
      "('Gooseberry', 'Peas', -1.0)\n",
      "('Grass', 'Sage', -1.0)\n",
      "('Lettuce', 'Parsley', -1.0)\n",
      "('Mints', 'Parsley', -1.0)\n",
      "('Onions', 'Peas', -1.0)\n",
      "('Peas', 'Shallots', -1.0)\n",
      "('Potato', 'Rosemary', -1.0)\n",
      "('Potato', 'Sunﬂower', -1.0)\n",
      "('Potato', 'Tomato', -1.0)\n",
      "('Rosemary', 'Tomato', -1.0)\n",
      "('Rue', 'Sage', -1.0)\n"
     ]
    }
   ],
   "source": [
    "for (u, v, wt) in graph1.edges.data('weight'):\n",
    "    if wt== -1: print((u, v, wt))"
   ]
  },
  {
   "cell_type": "code",
   "execution_count": 20,
   "metadata": {},
   "outputs": [],
   "source": [
    "from networkx.algorithms.cluster import clustering"
   ]
  },
  {
   "cell_type": "code",
   "execution_count": 21,
   "metadata": {
    "collapsed": true,
    "jupyter": {
     "outputs_hidden": true
    }
   },
   "outputs": [
    {
     "data": {
      "text/plain": [
       "{'Apple': 0.15151515151515152,\n",
       " 'Apricot': 0.1523809523809524,\n",
       " 'Asparagus': 0.7,\n",
       " 'Basil': 0.25,\n",
       " 'Beans': 0.286231884057971,\n",
       " 'Broad Beans': 0.2948717948717949,\n",
       " 'Bush Beans': 0.41904761904761906,\n",
       " 'Climbing Beans': 0.3516483516483517,\n",
       " 'Beets': 0.5641025641025641,\n",
       " 'Borage': 0.35555555555555557,\n",
       " 'Broccoli': 0.30833333333333335,\n",
       " 'Brussell Sprouts': 0.34065934065934067,\n",
       " 'Cabbages': 0.22988505747126436,\n",
       " 'Chamomile': 0.6666666666666666,\n",
       " 'Carrots': 0.3263157894736842,\n",
       " 'Cauliflower': 0.36764705882352944,\n",
       " 'Celery': 0.5512820512820513,\n",
       " 'Cherry': 0.16666666666666666,\n",
       " 'Chervil': 0.32051282051282054,\n",
       " 'Chives': 0.2,\n",
       " 'Coriander': 0.3484848484848485,\n",
       " 'Corn': 0.358974358974359,\n",
       " 'Cucumber': 0.35789473684210527,\n",
       " 'Dill': 0.4,\n",
       " 'Eggplant': 1.0,\n",
       " 'Fennel': 0.25,\n",
       " 'Marigold': 0.24210526315789474,\n",
       " 'Fruit Trees': 0.13186813186813187,\n",
       " 'Garlic': 0.17894736842105263,\n",
       " 'Gooseberry': 0,\n",
       " 'Grape Vine': 0.26666666666666666,\n",
       " 'Grass': 0.35714285714285715,\n",
       " 'Horseradish': 0.2,\n",
       " 'Lavender': 0.2777777777777778,\n",
       " 'Leeks': 0.7,\n",
       " 'Lemon Balm': 0.3090909090909091,\n",
       " 'Lettuce': 0.40476190476190477,\n",
       " 'Marjoram': 0.24777183600713013,\n",
       " 'Mints': 0.5,\n",
       " 'Mulberry': 0.18681318681318682,\n",
       " 'Mustard': 0.06666666666666667,\n",
       " 'Nasturtiums': 0.23333333333333334,\n",
       " 'Onions': 0.30409356725146197,\n",
       " 'Parsley': 0.2878787878787879,\n",
       " 'Parsnip': 0.475,\n",
       " 'Peas': 0.3567251461988304,\n",
       " 'Pennyroyal': 0,\n",
       " 'Potato': 0.31076923076923074,\n",
       " 'Pumpkin': 1.0,\n",
       " 'Radish': 0.5277777777777778,\n",
       " 'Raspberry': 0.3333333333333333,\n",
       " 'Rosemary': 0.5277777777777778,\n",
       " 'Roses': 0.10256410256410256,\n",
       " 'Rue': 0.13333333333333333,\n",
       " 'Sage': 0.34545454545454546,\n",
       " 'Savory': 1.0,\n",
       " 'Shallots': 1.0,\n",
       " 'Silverbeet': 0.16666666666666666,\n",
       " 'Spinach': 0.3111111111111111,\n",
       " 'Squash': 0.19444444444444445,\n",
       " 'Strawberries': 0.27472527472527475,\n",
       " 'Stinging Nettle': 0.3333333333333333,\n",
       " 'Sunﬂower': 0.39285714285714285,\n",
       " 'Tansy': 0.19696969696969696,\n",
       " 'Thyme': 0,\n",
       " 'Tomato': 0.23646723646723647,\n",
       " 'Yarrow': 0.3888888888888889,\n",
       " 'Zucchini': 0.3333333333333333}"
      ]
     },
     "execution_count": 21,
     "metadata": {},
     "output_type": "execute_result"
    }
   ],
   "source": [
    "clustering(graph1) #,node=''"
   ]
  },
  {
   "cell_type": "markdown",
   "metadata": {},
   "source": [
    "subgraph: https://networkx.github.io/documentation/stable/reference/classes/generated/networkx.Graph.subgraph.html"
   ]
  },
  {
   "cell_type": "code",
   "execution_count": 27,
   "metadata": {},
   "outputs": [
    {
     "data": {
      "text/plain": [
       "[]"
      ]
     },
     "execution_count": 27,
     "metadata": {},
     "output_type": "execute_result"
    }
   ],
   "source": [
    "[i for i in graph1.subgraph([1])]"
   ]
  },
  {
   "cell_type": "code",
   "execution_count": 33,
   "metadata": {},
   "outputs": [
    {
     "data": {
      "text/plain": [
       "{(1, 0)}"
      ]
     },
     "execution_count": 33,
     "metadata": {},
     "output_type": "execute_result"
    }
   ],
   "source": [
    "set([(1,0),(1,0)])"
   ]
  },
  {
   "cell_type": "markdown",
   "metadata": {},
   "source": [
    "## Louvain"
   ]
  },
  {
   "cell_type": "code",
   "execution_count": 41,
   "metadata": {},
   "outputs": [],
   "source": [
    "import community as communityLouvain\n",
    "import matplotlib.pyplot as plt\n",
    "import matplotlib.cm as cm"
   ]
  },
  {
   "cell_type": "code",
   "execution_count": 37,
   "metadata": {},
   "outputs": [],
   "source": [
    "graph2=nx.karate_club_graph()\n",
    "partition=communityLouvain.best_partition(graph2)"
   ]
  },
  {
   "cell_type": "code",
   "execution_count": 49,
   "metadata": {},
   "outputs": [
    {
     "data": {
      "image/png": "[encoded data removed]",
      "text/plain": [
       "<Figure size 720x576 with 1 Axes>"
      ]
     },
     "metadata": {},
     "output_type": "display_data"
    }
   ],
   "source": [
    "# draw the graph\n",
    "pos = nx.spring_layout(graph2)\n",
    "\n",
    "# color the nodes according to their partition\n",
    "plt.figure(figsize=(10,8))\n",
    "cmap = cm.get_cmap('viridis', max(partition.values()) + 1)\n",
    "nx.draw_networkx_nodes(graph2, pos, partition.keys(), node_size=40,\n",
    "                       cmap=cmap, node_color=list(partition.values()))\n",
    "nx.draw_networkx_edges(graph2, pos, alpha=0.5)\n",
    "plt.title(\" Test Python-Louvain \",color='white')\n",
    "plt.show()"
   ]
  },
  {
   "cell_type": "code",
   "execution_count": null,
   "metadata": {},
   "outputs": [],
   "source": []
  },
  {
   "cell_type": "markdown",
   "metadata": {},
   "source": [
    "## Fit into graph with igraph\n",
    "- fit into graph from normal pandas dataframe\n",
    "- fit into grpah from pandas adjacency matrix(this is what I have)\n",
    "- weight 0 means no weight at all in graph theory\n",
    "- find subgraph of signed network in python\n",
    "- https://www.traag.net/2015/03/03/powerblocs-social-balance-in-the-middle-east/\n",
    "- https://github.com/taynaud/python-louvain\n",
    "- https://python-louvain.readthedocs.io/en/latest/"
   ]
  },
  {
   "cell_type": "code",
   "execution_count": null,
   "metadata": {},
   "outputs": [],
   "source": [
    "g.Graph.TupleList()"
   ]
  }
 ],
 "metadata": {
  "kernelspec": {
   "display_name": "Python 3",
   "language": "python",
   "name": "python3"
  },
  "language_info": {
   "codemirror_mode": {
    "name": "ipython",
    "version": 3
   },
   "file_extension": ".py",
   "mimetype": "text/x-python",
   "name": "python",
   "nbconvert_exporter": "python",
   "pygments_lexer": "ipython3",
   "version": "3.7.1"
  }
 },
 "nbformat": 4,
 "nbformat_minor": 4
}
