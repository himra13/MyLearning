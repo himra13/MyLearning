{
 "metadata": {
  "language_info": {
   "codemirror_mode": {
    "name": "ipython",
    "version": 3
   },
   "file_extension": ".py",
   "mimetype": "text/x-python",
   "name": "python",
   "nbconvert_exporter": "python",
   "pygments_lexer": "ipython3",
   "version": "3.7.6"
  },
  "orig_nbformat": 2,
  "kernelspec": {
   "name": "python376jvsc74a57bd005fd015fde469287f816b397886c05d451759986eacea9f691480d314851b517",
   "display_name": "Python 3.7.6 64-bit ('base': conda)"
  }
 },
 "nbformat": 4,
 "nbformat_minor": 2,
 "cells": [
  {
   "cell_type": "code",
   "execution_count": 3,
   "metadata": {},
   "outputs": [],
   "source": [
    "class Food(object):\n",
    "    \"\"\"\n",
    "    This is the food class, storing method to get value, calories, density of each food.\n",
    "    \"\"\"\n",
    "    def __init__(self, name, value, calories):\n",
    "        self.name=name\n",
    "        self.value=value\n",
    "        self.calories=calories\n",
    "\n",
    "    def getValue(self):\n",
    "        return self.value\n",
    "    \n",
    "    def getCal(self):\n",
    "        return self.calories\n",
    "\n",
    "    def density(self):\n",
    "        return self.getValue()/self.getCal()\n",
    "    \n",
    "    def __str__(self):\n",
    "        return self.name+':<'+str(self.value)\\\n",
    "            +', '+str(self.calories)+'>'"
   ]
  },
  {
   "cell_type": "code",
   "execution_count": null,
   "metadata": {},
   "outputs": [],
   "source": [
    "def BuildMenu(names, values, calories):\n",
    "    menu=[]\n",
    "    for i in range(len(menu ))"
   ]
  }
 ]
}