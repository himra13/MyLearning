{
 "cells": [
  {
   "cell_type": "code",
   "execution_count": 50,
   "metadata": {},
   "outputs": [],
   "source": [
    "from numba import jit\n",
    "import pandas as pd\n",
    "import numpy as np"
   ]
  },
  {
   "cell_type": "code",
   "execution_count": 3,
   "metadata": {},
   "outputs": [
    {
     "name": "stdout",
     "output_type": "stream",
     "text": [
      "<class 'pandas.core.frame.DataFrame'>\n",
      "RangeIndex: 64 entries, 0 to 63\n",
      "Data columns (total 4 columns):\n",
      " #   Column   Non-Null Count  Dtype \n",
      "---  ------   --------------  ----- \n",
      " 0   name     64 non-null     object\n",
      " 1   dob      64 non-null     object\n",
      " 2   role     64 non-null     int64 \n",
      " 3   img_url  64 non-null     object\n",
      "dtypes: int64(1), object(3)\n",
      "memory usage: 2.1+ KB\n"
     ]
    }
   ],
   "source": [
    "df = pd.read_csv('https://raw.githubusercontent.com/prasertcbs/basic-dataset/master/bnk48_members.csv')\n",
    "df.info()"
   ]
  },
  {
   "cell_type": "code",
   "execution_count": 5,
   "metadata": {},
   "outputs": [
    {
     "data": {
      "text/html": [
       "<div>\n",
       "<style scoped>\n",
       "    .dataframe tbody tr th:only-of-type {\n",
       "        vertical-align: middle;\n",
       "    }\n",
       "\n",
       "    .dataframe tbody tr th {\n",
       "        vertical-align: top;\n",
       "    }\n",
       "\n",
       "    .dataframe thead th {\n",
       "        text-align: right;\n",
       "    }\n",
       "</style>\n",
       "<table border=\"1\" class=\"dataframe\">\n",
       "  <thead>\n",
       "    <tr style=\"text-align: right;\">\n",
       "      <th></th>\n",
       "      <th>name</th>\n",
       "      <th>dob</th>\n",
       "      <th>role</th>\n",
       "      <th>img_url</th>\n",
       "    </tr>\n",
       "  </thead>\n",
       "  <tbody>\n",
       "    <tr>\n",
       "      <th>0</th>\n",
       "      <td>BAMBOO</td>\n",
       "      <td>2002-09-03</td>\n",
       "      <td>51</td>\n",
       "      <td>https://www.bnk48.com/data/Members/51/s/202008...</td>\n",
       "    </tr>\n",
       "    <tr>\n",
       "      <th>1</th>\n",
       "      <td>CHERPRANG</td>\n",
       "      <td>1996-05-02</td>\n",
       "      <td>4</td>\n",
       "      <td>https://www.bnk48.com/data/Members/4/s/2020080...</td>\n",
       "    </tr>\n",
       "    <tr>\n",
       "      <th>2</th>\n",
       "      <td>Earn</td>\n",
       "      <td>1998-12-03</td>\n",
       "      <td>55</td>\n",
       "      <td>https://www.bnk48.com/data/Members/55/s/202008...</td>\n",
       "    </tr>\n",
       "    <tr>\n",
       "      <th>3</th>\n",
       "      <td>Earth</td>\n",
       "      <td>2002-04-22</td>\n",
       "      <td>56</td>\n",
       "      <td>https://www.bnk48.com/data/Members/56/s/202008...</td>\n",
       "    </tr>\n",
       "    <tr>\n",
       "      <th>4</th>\n",
       "      <td>Eve</td>\n",
       "      <td>2003-01-22</td>\n",
       "      <td>57</td>\n",
       "      <td>https://www.bnk48.com/data/Members/57/s/202008...</td>\n",
       "    </tr>\n",
       "  </tbody>\n",
       "</table>\n",
       "</div>"
      ],
      "text/plain": [
       "        name         dob  role  \\\n",
       "0     BAMBOO  2002-09-03    51   \n",
       "1  CHERPRANG  1996-05-02     4   \n",
       "2       Earn  1998-12-03    55   \n",
       "3      Earth  2002-04-22    56   \n",
       "4        Eve  2003-01-22    57   \n",
       "\n",
       "                                             img_url  \n",
       "0  https://www.bnk48.com/data/Members/51/s/202008...  \n",
       "1  https://www.bnk48.com/data/Members/4/s/2020080...  \n",
       "2  https://www.bnk48.com/data/Members/55/s/202008...  \n",
       "3  https://www.bnk48.com/data/Members/56/s/202008...  \n",
       "4  https://www.bnk48.com/data/Members/57/s/202008...  "
      ]
     },
     "execution_count": 5,
     "metadata": {},
     "output_type": "execute_result"
    }
   ],
   "source": [
    "df.head()"
   ]
  },
  {
   "cell_type": "code",
   "execution_count": 56,
   "metadata": {},
   "outputs": [],
   "source": [
    "def cal_age(df: pd.DataFrame)->pd.DataFrame:\n",
    "    new_df = (\n",
    "        df\n",
    "        .assign(age = lambda x: ((pd.Timestamp.now() - pd.to_datetime(x.dob)).dt.days/365).astype(int))\n",
    "    )\n",
    "    return new_df\n",
    "\n",
    "\n",
    "@jit\n",
    "def cal_age_numba(df: pd.DataFrame)->pd.DataFrame:\n",
    "    new_df = (\n",
    "        df\n",
    "        .assign(age = lambda x: ((pd.Timestamp.now() - pd.to_datetime(x.dob)).dt.days/365).astype(int))\n",
    "    )\n",
    "    return new_df\n",
    "\n",
    "def"
   ]
  },
  {
   "cell_type": "code",
   "execution_count": 59,
   "metadata": {},
   "outputs": [],
   "source": [
    "processed_df = cal_age(df)"
   ]
  },
  {
   "cell_type": "code",
   "execution_count": 62,
   "metadata": {},
   "outputs": [],
   "source": [
    "def cal_corr(df):\n",
    "    return df.corr()\n",
    "\n",
    "@jit\n",
    "def cal_corr_numba(df):\n",
    "    return df.corr()"
   ]
  },
  {
   "cell_type": "code",
   "execution_count": 68,
   "metadata": {},
   "outputs": [
    {
     "name": "stdout",
     "output_type": "stream",
     "text": [
      "174 µs ± 5.46 µs per loop (mean ± std. dev. of 7 runs, 10000 loops each)\n"
     ]
    }
   ],
   "source": [
    "%%timeit\n",
    "cal_corr(processed_df)"
   ]
  },
  {
   "cell_type": "code",
   "execution_count": 67,
   "metadata": {},
   "outputs": [
    {
     "name": "stdout",
     "output_type": "stream",
     "text": [
      "300 µs ± 28.8 µs per loop (mean ± std. dev. of 7 runs, 1000 loops each)\n"
     ]
    }
   ],
   "source": [
    "%%timeit\n",
    "cal_corr_numba(processed_df)\n",
    "# fallback to object mode consume twice the time"
   ]
  }
 ],
 "metadata": {
  "interpreter": {
   "hash": "d235d7b5dbf397ec06bdc8f2b3dbf1353707e7a91ace9f474a6f82c05d56ecd8"
  },
  "kernelspec": {
   "display_name": "Python 3.7.11 ('numba_test')",
   "language": "python",
   "name": "python3"
  },
  "language_info": {
   "codemirror_mode": {
    "name": "ipython",
    "version": 3
   },
   "file_extension": ".py",
   "mimetype": "text/x-python",
   "name": "python",
   "nbconvert_exporter": "python",
   "pygments_lexer": "ipython3",
   "version": "3.7.11"
  },
  "orig_nbformat": 4
 },
 "nbformat": 4,
 "nbformat_minor": 2
}
