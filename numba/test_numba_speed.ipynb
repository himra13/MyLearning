{
 "cells": [
  {
   "cell_type": "code",
   "execution_count": 1,
   "metadata": {},
   "outputs": [],
   "source": [
    "from numba import jit\n",
    "import numpy as np"
   ]
  },
  {
   "cell_type": "code",
   "execution_count": 2,
   "metadata": {},
   "outputs": [],
   "source": [
    "x = np.arange(100).reshape(10, 10)\n",
    "\n",
    "def go_fast(a):\n",
    "    trace = 0.0\n",
    "    for i in range(a.shape[0]):\n",
    "        trace += np.tanh(a[i, i])\n",
    "    return a + trace\n",
    "\n",
    "@jit(nopython=True) # Set \"nopython\" mode for best performance, equivalent to @njit\n",
    "def go_fast_numba(a): # Function is compiled to machine code when called the first time\n",
    "    trace = 0.0\n",
    "    for i in range(a.shape[0]):   # Numba likes loops\n",
    "        trace += np.tanh(a[i, i]) # Numba likes NumPy functions\n",
    "    return a + trace              # Numba likes NumPy broadcasting"
   ]
  },
  {
   "cell_type": "code",
   "execution_count": 3,
   "metadata": {},
   "outputs": [
    {
     "data": {
      "text/plain": [
       "array([[  9.,  10.,  11.,  12.,  13.,  14.,  15.,  16.,  17.,  18.],\n",
       "       [ 19.,  20.,  21.,  22.,  23.,  24.,  25.,  26.,  27.,  28.],\n",
       "       [ 29.,  30.,  31.,  32.,  33.,  34.,  35.,  36.,  37.,  38.],\n",
       "       [ 39.,  40.,  41.,  42.,  43.,  44.,  45.,  46.,  47.,  48.],\n",
       "       [ 49.,  50.,  51.,  52.,  53.,  54.,  55.,  56.,  57.,  58.],\n",
       "       [ 59.,  60.,  61.,  62.,  63.,  64.,  65.,  66.,  67.,  68.],\n",
       "       [ 69.,  70.,  71.,  72.,  73.,  74.,  75.,  76.,  77.,  78.],\n",
       "       [ 79.,  80.,  81.,  82.,  83.,  84.,  85.,  86.,  87.,  88.],\n",
       "       [ 89.,  90.,  91.,  92.,  93.,  94.,  95.,  96.,  97.,  98.],\n",
       "       [ 99., 100., 101., 102., 103., 104., 105., 106., 107., 108.]])"
      ]
     },
     "execution_count": 3,
     "metadata": {},
     "output_type": "execute_result"
    }
   ],
   "source": [
    "go_fast(x)"
   ]
  },
  {
   "cell_type": "code",
   "execution_count": 4,
   "metadata": {},
   "outputs": [
    {
     "data": {
      "text/plain": [
       "array([[  9.,  10.,  11.,  12.,  13.,  14.,  15.,  16.,  17.,  18.],\n",
       "       [ 19.,  20.,  21.,  22.,  23.,  24.,  25.,  26.,  27.,  28.],\n",
       "       [ 29.,  30.,  31.,  32.,  33.,  34.,  35.,  36.,  37.,  38.],\n",
       "       [ 39.,  40.,  41.,  42.,  43.,  44.,  45.,  46.,  47.,  48.],\n",
       "       [ 49.,  50.,  51.,  52.,  53.,  54.,  55.,  56.,  57.,  58.],\n",
       "       [ 59.,  60.,  61.,  62.,  63.,  64.,  65.,  66.,  67.,  68.],\n",
       "       [ 69.,  70.,  71.,  72.,  73.,  74.,  75.,  76.,  77.,  78.],\n",
       "       [ 79.,  80.,  81.,  82.,  83.,  84.,  85.,  86.,  87.,  88.],\n",
       "       [ 89.,  90.,  91.,  92.,  93.,  94.,  95.,  96.,  97.,  98.],\n",
       "       [ 99., 100., 101., 102., 103., 104., 105., 106., 107., 108.]])"
      ]
     },
     "execution_count": 4,
     "metadata": {},
     "output_type": "execute_result"
    }
   ],
   "source": [
    "go_fast_numba(x)"
   ]
  },
  {
   "cell_type": "code",
   "execution_count": 5,
   "metadata": {},
   "outputs": [
    {
     "name": "stdout",
     "output_type": "stream",
     "text": [
      "24.8 µs ± 2.24 µs per loop (mean ± std. dev. of 7 runs, 10000 loops each)\n"
     ]
    }
   ],
   "source": [
    "%%timeit\n",
    "go_fast(x)"
   ]
  },
  {
   "cell_type": "code",
   "execution_count": 6,
   "metadata": {},
   "outputs": [
    {
     "name": "stdout",
     "output_type": "stream",
     "text": [
      "1.29 µs ± 52.7 ns per loop (mean ± std. dev. of 7 runs, 1000000 loops each)\n"
     ]
    }
   ],
   "source": [
    "%%timeit\n",
    "go_fast_numba(x)"
   ]
  },
  {
   "cell_type": "code",
   "execution_count": null,
   "metadata": {},
   "outputs": [],
   "source": []
  }
 ],
 "metadata": {
  "interpreter": {
   "hash": "d235d7b5dbf397ec06bdc8f2b3dbf1353707e7a91ace9f474a6f82c05d56ecd8"
  },
  "kernelspec": {
   "display_name": "Python 3.7.11 ('numba_test')",
   "language": "python",
   "name": "python3"
  },
  "language_info": {
   "codemirror_mode": {
    "name": "ipython",
    "version": 3
   },
   "file_extension": ".py",
   "mimetype": "text/x-python",
   "name": "python",
   "nbconvert_exporter": "python",
   "pygments_lexer": "ipython3",
   "version": "3.7.11"
  },
  "orig_nbformat": 4
 },
 "nbformat": 4,
 "nbformat_minor": 2
}
